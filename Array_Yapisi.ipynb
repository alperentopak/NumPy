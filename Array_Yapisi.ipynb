{
 "cells": [
  {
   "cell_type": "code",
   "execution_count": 1,
   "id": "8a996a57-3b53-44da-9c95-ae7b8f5dede6",
   "metadata": {},
   "outputs": [],
   "source": [
    "data_list = [1,2,3]"
   ]
  },
  {
   "cell_type": "code",
   "execution_count": 2,
   "id": "29039dfa-5506-44af-8611-ddb4e8530702",
   "metadata": {},
   "outputs": [
    {
     "data": {
      "text/plain": [
       "[1, 2, 3]"
      ]
     },
     "execution_count": 2,
     "metadata": {},
     "output_type": "execute_result"
    }
   ],
   "source": [
    "data_list"
   ]
  },
  {
   "cell_type": "code",
   "execution_count": 3,
   "id": "7787577b-c8e7-43e8-86d6-92bb22ee676f",
   "metadata": {},
   "outputs": [],
   "source": [
    "import numpy as np"
   ]
  },
  {
   "cell_type": "code",
   "execution_count": 4,
   "id": "7d66abc0-b973-43f5-ab12-4e1f71efa7a3",
   "metadata": {},
   "outputs": [],
   "source": [
    "arr = np.array(data_list)"
   ]
  },
  {
   "cell_type": "code",
   "execution_count": 5,
   "id": "77d9acd0-59dd-4c2a-865a-167695c23d22",
   "metadata": {},
   "outputs": [
    {
     "data": {
      "text/plain": [
       "array([1, 2, 3])"
      ]
     },
     "execution_count": 5,
     "metadata": {},
     "output_type": "execute_result"
    }
   ],
   "source": [
    "arr"
   ]
  },
  {
   "cell_type": "code",
   "execution_count": 6,
   "id": "959cdaaf-781f-4c75-9e21-d0c33055951c",
   "metadata": {},
   "outputs": [],
   "source": [
    "dataList2=[[1,2,3],[4,5,6],[7,8,9]]"
   ]
  },
  {
   "cell_type": "code",
   "execution_count": 7,
   "id": "3accfd06-73da-4d57-bba2-d1a63887b8d6",
   "metadata": {},
   "outputs": [],
   "source": [
    "arr2 = np.array(dataList2)"
   ]
  },
  {
   "cell_type": "code",
   "execution_count": 8,
   "id": "afc5de90-2567-469b-b94c-95a4520a2e7b",
   "metadata": {},
   "outputs": [
    {
     "data": {
      "text/plain": [
       "array([[1, 2, 3],\n",
       "       [4, 5, 6],\n",
       "       [7, 8, 9]])"
      ]
     },
     "execution_count": 8,
     "metadata": {},
     "output_type": "execute_result"
    }
   ],
   "source": [
    "arr2"
   ]
  },
  {
   "cell_type": "code",
   "execution_count": 9,
   "id": "2b820459-639d-49c9-91e6-a1a8c0e00780",
   "metadata": {},
   "outputs": [
    {
     "data": {
      "text/plain": [
       "array([1, 2, 3])"
      ]
     },
     "execution_count": 9,
     "metadata": {},
     "output_type": "execute_result"
    }
   ],
   "source": [
    "arr3 = np.array([1,2,3])\n",
    "arr3"
   ]
  },
  {
   "cell_type": "code",
   "execution_count": 10,
   "id": "37746651-ef42-4665-b504-24336013f968",
   "metadata": {},
   "outputs": [
    {
     "data": {
      "text/plain": [
       "3"
      ]
     },
     "execution_count": 10,
     "metadata": {},
     "output_type": "execute_result"
    }
   ],
   "source": [
    "arr3[2]"
   ]
  },
  {
   "cell_type": "code",
   "execution_count": 11,
   "id": "0f661812-c117-48fe-8efb-93661b327bc9",
   "metadata": {},
   "outputs": [
    {
     "data": {
      "text/plain": [
       "8"
      ]
     },
     "execution_count": 11,
     "metadata": {},
     "output_type": "execute_result"
    }
   ],
   "source": [
    "arr2[2,1]"
   ]
  },
  {
   "cell_type": "code",
   "execution_count": 12,
   "id": "7d857068-650f-4996-a865-1130ad041bc2",
   "metadata": {},
   "outputs": [
    {
     "data": {
      "text/plain": [
       "array([10, 11, 12, 13, 14, 15, 16, 17, 18, 19])"
      ]
     },
     "execution_count": 12,
     "metadata": {},
     "output_type": "execute_result"
    }
   ],
   "source": [
    "np.arange(10,20)"
   ]
  },
  {
   "cell_type": "markdown",
   "id": "e1a847d9-adc9-401b-a803-47b9a69163b7",
   "metadata": {},
   "source": [
    "np.arange metodu, array'ler üzerinde range metodunu uygulayabildiğimizi gösteriyor"
   ]
  },
  {
   "cell_type": "code",
   "execution_count": 13,
   "id": "78b4c969-5c2e-4a3a-808a-b75acb3b933b",
   "metadata": {},
   "outputs": [
    {
     "data": {
      "text/plain": [
       "array([10, 12, 14, 16, 18, 20, 22, 24, 26, 28])"
      ]
     },
     "execution_count": 13,
     "metadata": {},
     "output_type": "execute_result"
    }
   ],
   "source": [
    "np.arange(10,30,2)"
   ]
  },
  {
   "cell_type": "code",
   "execution_count": 14,
   "id": "afaa8020-161b-43b1-a169-dac8c2415c8a",
   "metadata": {},
   "outputs": [
    {
     "data": {
      "text/plain": [
       "array([0., 0., 0., 0., 0.])"
      ]
     },
     "execution_count": 14,
     "metadata": {},
     "output_type": "execute_result"
    }
   ],
   "source": [
    "np.zeros(5)"
   ]
  },
  {
   "cell_type": "code",
   "execution_count": 15,
   "id": "30f1f951-a477-4a63-bfa0-b5189fcb4a52",
   "metadata": {},
   "outputs": [
    {
     "data": {
      "text/plain": [
       "array([1., 1., 1., 1., 1., 1., 1., 1., 1., 1.])"
      ]
     },
     "execution_count": 15,
     "metadata": {},
     "output_type": "execute_result"
    }
   ],
   "source": [
    "np.ones(10)"
   ]
  },
  {
   "cell_type": "code",
   "execution_count": 16,
   "id": "6e72886b-6655-4b9c-9884-527eddc8050c",
   "metadata": {},
   "outputs": [
    {
     "data": {
      "text/plain": [
       "array([[0., 0.],\n",
       "       [0., 0.]])"
      ]
     },
     "execution_count": 16,
     "metadata": {},
     "output_type": "execute_result"
    }
   ],
   "source": [
    "np.zeros((2,2))"
   ]
  },
  {
   "cell_type": "markdown",
   "id": "dbc9a263-1771-43b4-b480-38179df93e60",
   "metadata": {},
   "source": [
    "2,2 'lik bir sıfır matrisi oluşturur."
   ]
  },
  {
   "cell_type": "code",
   "execution_count": 17,
   "id": "fc5b9325-a419-4a34-94a9-62c61a48edbb",
   "metadata": {},
   "outputs": [
    {
     "data": {
      "text/plain": [
       "array([[1., 1., 1., 1., 1.],\n",
       "       [1., 1., 1., 1., 1.]])"
      ]
     },
     "execution_count": 17,
     "metadata": {},
     "output_type": "execute_result"
    }
   ],
   "source": [
    "np.ones((2,5))"
   ]
  },
  {
   "cell_type": "code",
   "execution_count": 18,
   "id": "6fec33e2-0dba-488a-924c-f6108a25ee19",
   "metadata": {},
   "outputs": [
    {
     "data": {
      "text/plain": [
       "array([  0.,  25.,  50.,  75., 100.])"
      ]
     },
     "execution_count": 18,
     "metadata": {},
     "output_type": "execute_result"
    }
   ],
   "source": [
    "np.linspace(0,100,5)"
   ]
  },
  {
   "cell_type": "markdown",
   "id": "8bf31685-469c-428e-8e05-b01442c210dd",
   "metadata": {},
   "source": [
    "linspace metodu ile 0'dan 100'e kadar olan sayıları 5 eşit parçaya böldük."
   ]
  },
  {
   "cell_type": "code",
   "execution_count": 19,
   "id": "5a93d8d7-78d8-4de3-a3ca-cb7a07c63830",
   "metadata": {},
   "outputs": [
    {
     "data": {
      "text/plain": [
       "array([0. , 0.2, 0.4, 0.6, 0.8, 1. ])"
      ]
     },
     "execution_count": 19,
     "metadata": {},
     "output_type": "execute_result"
    }
   ],
   "source": [
    "np.linspace(0,1,6)"
   ]
  },
  {
   "cell_type": "code",
   "execution_count": 20,
   "id": "422c053c-cca8-493d-ae77-fd90237e5049",
   "metadata": {},
   "outputs": [
    {
     "data": {
      "text/plain": [
       "array([[1., 0., 0., 0., 0.],\n",
       "       [0., 1., 0., 0., 0.],\n",
       "       [0., 0., 1., 0., 0.],\n",
       "       [0., 0., 0., 1., 0.],\n",
       "       [0., 0., 0., 0., 1.]])"
      ]
     },
     "execution_count": 20,
     "metadata": {},
     "output_type": "execute_result"
    }
   ],
   "source": [
    "np.eye(5)"
   ]
  },
  {
   "cell_type": "markdown",
   "id": "404a37cc-e9b8-482a-970f-784dd9a2d955",
   "metadata": {},
   "source": [
    "Birim matris oluşturmamızı sağlıyor,diagonal'ler yani köşeler hep 1 oluyor"
   ]
  },
  {
   "cell_type": "code",
   "execution_count": 21,
   "id": "007fe8cc-1042-462e-8a6d-30937a9f7f56",
   "metadata": {},
   "outputs": [
    {
     "data": {
      "text/plain": [
       "4"
      ]
     },
     "execution_count": 21,
     "metadata": {},
     "output_type": "execute_result"
    }
   ],
   "source": [
    "np.random.randint(0,10)"
   ]
  },
  {
   "cell_type": "markdown",
   "id": "a17d702f-72e7-4722-9ccc-01f6c5c54751",
   "metadata": {},
   "source": [
    "0 ile 10 arasinda rastgele bir int sayı döndürür"
   ]
  },
  {
   "cell_type": "code",
   "execution_count": 22,
   "id": "97b0f7e0-284e-4e40-9bfb-f807f1b66039",
   "metadata": {},
   "outputs": [
    {
     "data": {
      "text/plain": [
       "5"
      ]
     },
     "execution_count": 22,
     "metadata": {},
     "output_type": "execute_result"
    }
   ],
   "source": [
    "np.random.randint(15)"
   ]
  },
  {
   "cell_type": "code",
   "execution_count": 23,
   "id": "8360d4a9-c203-43bb-8a4e-22327e47127e",
   "metadata": {},
   "outputs": [
    {
     "data": {
      "text/plain": [
       "array([28, 23, 13, 34, 26, 27])"
      ]
     },
     "execution_count": 23,
     "metadata": {},
     "output_type": "execute_result"
    }
   ],
   "source": [
    "np.random.randint(0,50,6)"
   ]
  },
  {
   "cell_type": "markdown",
   "id": "86c60195-47f0-4d55-8309-db2ae95175fd",
   "metadata": {},
   "source": [
    "0-50 arası 6 tane değer üret ve array'e depola."
   ]
  },
  {
   "cell_type": "code",
   "execution_count": 24,
   "id": "2000e2be-52bf-46f1-b56a-7fe0a1040d87",
   "metadata": {},
   "outputs": [
    {
     "data": {
      "text/plain": [
       "array([0.23669649, 0.86322072, 0.20667065, 0.26248053])"
      ]
     },
     "execution_count": 24,
     "metadata": {},
     "output_type": "execute_result"
    }
   ],
   "source": [
    "np.random.rand(4)"
   ]
  },
  {
   "cell_type": "code",
   "execution_count": 25,
   "id": "c9f2b565-bfd0-4517-90ac-44388a21b24d",
   "metadata": {},
   "outputs": [
    {
     "data": {
      "text/plain": [
       "array([4.19454427, 1.57095592, 6.96468876, 8.17830133])"
      ]
     },
     "execution_count": 25,
     "metadata": {},
     "output_type": "execute_result"
    }
   ],
   "source": [
    "np.random.rand(4) * 10"
   ]
  },
  {
   "cell_type": "code",
   "execution_count": 26,
   "id": "0e59dd77-e193-472e-8e7b-0d1e3ad4a0e6",
   "metadata": {},
   "outputs": [
    {
     "data": {
      "text/plain": [
       "array([ 0.66680171,  0.07044216, -2.21563592,  1.28823439,  1.50086068])"
      ]
     },
     "execution_count": 26,
     "metadata": {},
     "output_type": "execute_result"
    }
   ],
   "source": [
    "np.random.randn(5)"
   ]
  },
  {
   "cell_type": "markdown",
   "id": "9c4786c1-8e76-4da4-9a37-a41808d81854",
   "metadata": {},
   "source": [
    "randn ile 0'ın etrafında Gauss Distribution yapılır."
   ]
  },
  {
   "cell_type": "code",
   "execution_count": 27,
   "id": "48b369d3-320c-4365-8d54-426851dabd5c",
   "metadata": {},
   "outputs": [],
   "source": [
    "arr5 = np.arange(25)"
   ]
  },
  {
   "cell_type": "code",
   "execution_count": 28,
   "id": "38c61a83-dd68-43e6-91f5-8aefb05b4948",
   "metadata": {},
   "outputs": [
    {
     "data": {
      "text/plain": [
       "array([ 0,  1,  2,  3,  4,  5,  6,  7,  8,  9, 10, 11, 12, 13, 14, 15, 16,\n",
       "       17, 18, 19, 20, 21, 22, 23, 24])"
      ]
     },
     "execution_count": 28,
     "metadata": {},
     "output_type": "execute_result"
    }
   ],
   "source": [
    "arr5"
   ]
  },
  {
   "cell_type": "code",
   "execution_count": 29,
   "id": "9682f2e8-37fe-460c-aec8-c737d655c470",
   "metadata": {},
   "outputs": [
    {
     "data": {
      "text/plain": [
       "array([[ 0,  1,  2,  3,  4],\n",
       "       [ 5,  6,  7,  8,  9],\n",
       "       [10, 11, 12, 13, 14],\n",
       "       [15, 16, 17, 18, 19],\n",
       "       [20, 21, 22, 23, 24]])"
      ]
     },
     "execution_count": 29,
     "metadata": {},
     "output_type": "execute_result"
    }
   ],
   "source": [
    "arr5.reshape(5,5)"
   ]
  },
  {
   "cell_type": "markdown",
   "id": "515e7ef6-ee57-409a-bae2-37dfd9bd0f91",
   "metadata": {},
   "source": [
    "reshape ile 5,5 lik matris oluşturdum,\n",
    "25 değer olduğunu için arr5.reshape(4,5) gibi bir şey yapılamaz."
   ]
  },
  {
   "cell_type": "code",
   "execution_count": 30,
   "id": "9482c033-7178-4012-a65f-363b4cdd7244",
   "metadata": {},
   "outputs": [
    {
     "data": {
      "text/plain": [
       "array([8, 4, 4, 2, 8])"
      ]
     },
     "execution_count": 30,
     "metadata": {},
     "output_type": "execute_result"
    }
   ],
   "source": [
    "newArray = np.random.randint(0,10,5)\n",
    "newArray"
   ]
  },
  {
   "cell_type": "code",
   "execution_count": 31,
   "id": "73648e3a-cde2-47bc-90c0-478d1623a454",
   "metadata": {},
   "outputs": [
    {
     "data": {
      "text/plain": [
       "8"
      ]
     },
     "execution_count": 31,
     "metadata": {},
     "output_type": "execute_result"
    }
   ],
   "source": [
    "newArray.max()"
   ]
  },
  {
   "cell_type": "code",
   "execution_count": 32,
   "id": "c1316f22-09bd-4231-b4e1-b0cf6fd00292",
   "metadata": {},
   "outputs": [
    {
     "data": {
      "text/plain": [
       "2"
      ]
     },
     "execution_count": 32,
     "metadata": {},
     "output_type": "execute_result"
    }
   ],
   "source": [
    "newArray.min()"
   ]
  },
  {
   "cell_type": "code",
   "execution_count": 33,
   "id": "14108c27-ca9f-430f-954c-c7a4f4cf4500",
   "metadata": {},
   "outputs": [
    {
     "data": {
      "text/plain": [
       "26"
      ]
     },
     "execution_count": 33,
     "metadata": {},
     "output_type": "execute_result"
    }
   ],
   "source": [
    "newArray.sum()"
   ]
  },
  {
   "cell_type": "code",
   "execution_count": 34,
   "id": "f32d3028-011e-42ec-bc83-61d1b51b8d21",
   "metadata": {},
   "outputs": [
    {
     "data": {
      "text/plain": [
       "5.2"
      ]
     },
     "execution_count": 34,
     "metadata": {},
     "output_type": "execute_result"
    }
   ],
   "source": [
    "newArray.mean()"
   ]
  },
  {
   "cell_type": "code",
   "execution_count": 35,
   "id": "04b6cee7-2616-4ebb-ada6-1b825ee6ba80",
   "metadata": {},
   "outputs": [
    {
     "data": {
      "text/plain": [
       "0"
      ]
     },
     "execution_count": 35,
     "metadata": {},
     "output_type": "execute_result"
    }
   ],
   "source": [
    "newArray.argmax()\n",
    "# max deger hangi indexte"
   ]
  },
  {
   "cell_type": "code",
   "execution_count": 36,
   "id": "cc99c41a-3ecf-4bd3-80c9-88aba7c33d02",
   "metadata": {},
   "outputs": [
    {
     "data": {
      "text/plain": [
       "3"
      ]
     },
     "execution_count": 36,
     "metadata": {},
     "output_type": "execute_result"
    }
   ],
   "source": [
    "newArray.argmin()\n",
    "# min deger hangi indexte"
   ]
  },
  {
   "cell_type": "code",
   "execution_count": 37,
   "id": "2bbe2b14-6db6-41ce-9a86-a398c6574e26",
   "metadata": {},
   "outputs": [],
   "source": [
    "detArray = np.random.randint(1,100,10)"
   ]
  },
  {
   "cell_type": "code",
   "execution_count": 38,
   "id": "5ade8345-9183-4cd3-b4c7-d8b1cb318d40",
   "metadata": {},
   "outputs": [
    {
     "data": {
      "text/plain": [
       "array([50, 17, 27, 34, 16, 91, 69, 17, 60, 49])"
      ]
     },
     "execution_count": 38,
     "metadata": {},
     "output_type": "execute_result"
    }
   ],
   "source": [
    "detArray"
   ]
  },
  {
   "cell_type": "code",
   "execution_count": 39,
   "id": "e877319e-ebdd-437f-8114-a573d51adba1",
   "metadata": {},
   "outputs": [
    {
     "data": {
      "text/plain": [
       "array([[1, 2],\n",
       "       [3, 4]])"
      ]
     },
     "execution_count": 39,
     "metadata": {},
     "output_type": "execute_result"
    }
   ],
   "source": [
    "detArray2 = np.array([[1,2],[3,4]])\n",
    "detArray2"
   ]
  },
  {
   "cell_type": "code",
   "execution_count": 40,
   "id": "00fb5e9f-1403-4ef8-9dba-0a876f78423d",
   "metadata": {},
   "outputs": [
    {
     "data": {
      "text/plain": [
       "-2.0000000000000004"
      ]
     },
     "execution_count": 40,
     "metadata": {},
     "output_type": "execute_result"
    }
   ],
   "source": [
    "np.linalg.det(detArray2)"
   ]
  },
  {
   "cell_type": "code",
   "execution_count": 41,
   "id": "b36a7006-c5db-444f-9a58-f1590f8ff624",
   "metadata": {},
   "outputs": [
    {
     "data": {
      "text/plain": [
       "-2"
      ]
     },
     "execution_count": 41,
     "metadata": {},
     "output_type": "execute_result"
    }
   ],
   "source": [
    "round(-2.0000000000000004)"
   ]
  }
 ],
 "metadata": {
  "kernelspec": {
   "display_name": "Python 3 (ipykernel)",
   "language": "python",
   "name": "python3"
  },
  "language_info": {
   "codemirror_mode": {
    "name": "ipython",
    "version": 3
   },
   "file_extension": ".py",
   "mimetype": "text/x-python",
   "name": "python",
   "nbconvert_exporter": "python",
   "pygments_lexer": "ipython3",
   "version": "3.11.7"
  }
 },
 "nbformat": 4,
 "nbformat_minor": 5
}
