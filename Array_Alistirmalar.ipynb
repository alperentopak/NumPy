{
 "cells": [
  {
   "cell_type": "code",
   "execution_count": 1,
   "id": "28a3e545-a393-4c58-808f-9287c601c09d",
   "metadata": {},
   "outputs": [],
   "source": [
    "################## ALIŞTIRMALAR ###################### "
   ]
  },
  {
   "cell_type": "code",
   "execution_count": 2,
   "id": "593cd3ca-fc3c-4e77-8ffe-dbdff0c29562",
   "metadata": {},
   "outputs": [],
   "source": [
    "import numpy as np"
   ]
  },
  {
   "cell_type": "code",
   "execution_count": 3,
   "id": "3bc294eb-7899-4adb-9de2-32669d0fae27",
   "metadata": {},
   "outputs": [],
   "source": [
    "#Bölüm 1"
   ]
  },
  {
   "cell_type": "markdown",
   "id": "5d7a18b2-e58c-428e-9845-8558b713dcb0",
   "metadata": {},
   "source": [
    "5 tane 1 barındıran bir array oluşturun"
   ]
  },
  {
   "cell_type": "code",
   "execution_count": 4,
   "id": "8ddc74fb-ba0f-47d2-bb77-670e9b3d0f3d",
   "metadata": {},
   "outputs": [
    {
     "data": {
      "text/plain": [
       "array([1., 1., 1., 1., 1.])"
      ]
     },
     "execution_count": 4,
     "metadata": {},
     "output_type": "execute_result"
    }
   ],
   "source": [
    "np.ones(5)"
   ]
  },
  {
   "cell_type": "markdown",
   "id": "490dbde6-fe83-41c2-8cfe-6c602b87aedb",
   "metadata": {},
   "source": [
    "2'den 100'e kadar olan değerlerden 2'ye tam bölünebilenlerle bir array oluşturun"
   ]
  },
  {
   "cell_type": "code",
   "execution_count": 5,
   "id": "56d7af25-3d25-412b-a04f-40b5724b2412",
   "metadata": {},
   "outputs": [
    {
     "data": {
      "text/plain": [
       "array([ 2,  4,  6,  8, 10, 12, 14, 16, 18, 20, 22, 24, 26, 28, 30, 32, 34,\n",
       "       36, 38, 40, 42, 44, 46, 48, 50, 52, 54, 56, 58, 60, 62, 64, 66, 68,\n",
       "       70, 72, 74, 76, 78, 80, 82, 84, 86, 88, 90, 92, 94, 96, 98])"
      ]
     },
     "execution_count": 5,
     "metadata": {},
     "output_type": "execute_result"
    }
   ],
   "source": [
    "arr = np.arange(2,100,2)\n",
    "arr"
   ]
  },
  {
   "cell_type": "markdown",
   "id": "fc0470cd-0680-43fc-b25c-dee4a8ab710d",
   "metadata": {},
   "source": [
    "5 tane 10 bulunan bir array oluşturun"
   ]
  },
  {
   "cell_type": "code",
   "execution_count": 6,
   "id": "5a93b998-654a-42bc-b4da-e3ee81bc0123",
   "metadata": {},
   "outputs": [
    {
     "data": {
      "text/plain": [
       "array([10., 10., 10., 10., 10.])"
      ]
     },
     "execution_count": 6,
     "metadata": {},
     "output_type": "execute_result"
    }
   ],
   "source": [
    "arr = np.ones(5) * 10\n",
    "arr"
   ]
  },
  {
   "cell_type": "markdown",
   "id": "8aff2368-6e2a-46eb-af7e-c1215a6a1b23",
   "metadata": {},
   "source": [
    "veya"
   ]
  },
  {
   "cell_type": "code",
   "execution_count": 7,
   "id": "2d6e6bb7-dc11-4acb-bb36-c6315c074ea1",
   "metadata": {},
   "outputs": [
    {
     "data": {
      "text/plain": [
       "array([10., 10., 10., 10., 10.])"
      ]
     },
     "execution_count": 7,
     "metadata": {},
     "output_type": "execute_result"
    }
   ],
   "source": [
    "arr = np.zeros(5) + 10\n",
    "arr"
   ]
  },
  {
   "cell_type": "markdown",
   "id": "0d29469a-1c71-4c19-90ae-10abd452a38b",
   "metadata": {},
   "source": [
    "1'den 16'ya kadar değer bulunduran 4x4'lük bir matris oluşturun"
   ]
  },
  {
   "cell_type": "code",
   "execution_count": 8,
   "id": "37cd7437-4d8c-491f-8df4-b25e69ab41aa",
   "metadata": {},
   "outputs": [
    {
     "data": {
      "text/plain": [
       "array([ 1,  2,  3,  4,  5,  6,  7,  8,  9, 10, 11, 12, 13, 14, 15, 16])"
      ]
     },
     "execution_count": 8,
     "metadata": {},
     "output_type": "execute_result"
    }
   ],
   "source": [
    "arr = np.arange(1,17)\n",
    "arr"
   ]
  },
  {
   "cell_type": "markdown",
   "id": "9b60ec38-0e75-4f8e-8f06-2e6f50e04e8f",
   "metadata": {},
   "source": [
    "4x4'lük bir birim matris oluşturun"
   ]
  },
  {
   "cell_type": "code",
   "execution_count": 9,
   "id": "b788d125-10be-4914-a4da-174f745631fc",
   "metadata": {},
   "outputs": [
    {
     "data": {
      "text/plain": [
       "array([[ 1,  2,  3,  4],\n",
       "       [ 5,  6,  7,  8],\n",
       "       [ 9, 10, 11, 12],\n",
       "       [13, 14, 15, 16]])"
      ]
     },
     "execution_count": 9,
     "metadata": {},
     "output_type": "execute_result"
    }
   ],
   "source": [
    "arr = arr.reshape(4,4)\n",
    "arr"
   ]
  },
  {
   "cell_type": "markdown",
   "id": "f03bd1c7-88a9-4b26-a8e2-4228f3e264d3",
   "metadata": {},
   "source": [
    "4x4'lük bir birim matris oluşturun"
   ]
  },
  {
   "cell_type": "code",
   "execution_count": 10,
   "id": "dc9e95d1-661f-4df6-a2d6-bfee39fca3b1",
   "metadata": {},
   "outputs": [
    {
     "data": {
      "text/plain": [
       "array([[1., 0., 0., 0.],\n",
       "       [0., 1., 0., 0.],\n",
       "       [0., 0., 1., 0.],\n",
       "       [0., 0., 0., 1.]])"
      ]
     },
     "execution_count": 10,
     "metadata": {},
     "output_type": "execute_result"
    }
   ],
   "source": [
    "arr = np.eye(4,4)\n",
    "arr"
   ]
  },
  {
   "cell_type": "markdown",
   "id": "277cf883",
   "metadata": {},
   "source": [
    "0 ile 5 arasında rastgele değerler üretin"
   ]
  },
  {
   "cell_type": "code",
   "execution_count": 11,
   "id": "9cd5dcfa-abd9-457a-a821-30fe7e41bccc",
   "metadata": {},
   "outputs": [
    {
     "data": {
      "text/plain": [
       "2.0965806148802173"
      ]
     },
     "execution_count": 11,
     "metadata": {},
     "output_type": "execute_result"
    }
   ],
   "source": [
    "x = np.random.rand() * 5\n",
    "x"
   ]
  },
  {
   "cell_type": "markdown",
   "id": "f74c4bd9-a8e9-493d-a626-e0a35423b352",
   "metadata": {},
   "source": [
    "5 x 5'lik bir matrisi Gaussian Distribution'a Göre (randn() fonksiyonu) değerler üreterek oluşturun"
   ]
  },
  {
   "cell_type": "code",
   "execution_count": 12,
   "id": "e139d76b-4657-4025-9efa-4627a5656e32",
   "metadata": {},
   "outputs": [
    {
     "data": {
      "text/plain": [
       "array([[ 0.98490617, -1.40669533, -0.13829   , -0.71645059,  1.75080106],\n",
       "       [-0.94463104,  0.89104829, -0.51567297,  0.61706858, -0.07038186],\n",
       "       [-0.62093027, -0.33807907, -0.43481588, -1.18299936,  0.49488543],\n",
       "       [ 1.06972655,  0.44723696, -1.31598294,  0.21739135, -0.47809126],\n",
       "       [ 2.11052032, -2.20595727,  0.72773376, -0.60897437, -1.18466309]])"
      ]
     },
     "execution_count": 12,
     "metadata": {},
     "output_type": "execute_result"
    }
   ],
   "source": [
    "arr = np.random.randn(5,5)\n",
    "arr"
   ]
  },
  {
   "cell_type": "markdown",
   "id": "43f71263-55fb-41f3-aa3c-7ca0dad1b4d5",
   "metadata": {},
   "source": [
    "1 ile 5 arasındaki mesafeyi eşit parçalara bölerek 20'lik bir array oluşturun"
   ]
  },
  {
   "cell_type": "code",
   "execution_count": 13,
   "id": "9b2a26a9-1422-4909-adf8-2df46d2a275c",
   "metadata": {},
   "outputs": [
    {
     "data": {
      "text/plain": [
       "array([1.        , 1.21052632, 1.42105263, 1.63157895, 1.84210526,\n",
       "       2.05263158, 2.26315789, 2.47368421, 2.68421053, 2.89473684,\n",
       "       3.10526316, 3.31578947, 3.52631579, 3.73684211, 3.94736842,\n",
       "       4.15789474, 4.36842105, 4.57894737, 4.78947368, 5.        ])"
      ]
     },
     "execution_count": 13,
     "metadata": {},
     "output_type": "execute_result"
    }
   ],
   "source": [
    "arr = np.linspace(1,5,20)\n",
    "arr"
   ]
  },
  {
   "cell_type": "code",
   "execution_count": 14,
   "id": "65cfb1fc-6021-43c8-9c1e-9a7828f57146",
   "metadata": {},
   "outputs": [],
   "source": [
    "#Bölüm 2"
   ]
  },
  {
   "cell_type": "code",
   "execution_count": 15,
   "id": "28629a60-7b3e-426e-9dab-1c20fe93c7f4",
   "metadata": {},
   "outputs": [
    {
     "data": {
      "text/plain": [
       "array([[  1,   2,   3,   4,   5,   6,   7,   8,   9,  10],\n",
       "       [ 11,  12,  13,  14,  15,  16,  17,  18,  19,  20],\n",
       "       [ 21,  22,  23,  24,  25,  26,  27,  28,  29,  30],\n",
       "       [ 31,  32,  33,  34,  35,  36,  37,  38,  39,  40],\n",
       "       [ 41,  42,  43,  44,  45,  46,  47,  48,  49,  50],\n",
       "       [ 51,  52,  53,  54,  55,  56,  57,  58,  59,  60],\n",
       "       [ 61,  62,  63,  64,  65,  66,  67,  68,  69,  70],\n",
       "       [ 71,  72,  73,  74,  75,  76,  77,  78,  79,  80],\n",
       "       [ 81,  82,  83,  84,  85,  86,  87,  88,  89,  90],\n",
       "       [ 91,  92,  93,  94,  95,  96,  97,  98,  99, 100]])"
      ]
     },
     "execution_count": 15,
     "metadata": {},
     "output_type": "execute_result"
    }
   ],
   "source": [
    "arr = np.arange(1,101).reshape(10,10)\n",
    "arr"
   ]
  },
  {
   "cell_type": "code",
   "execution_count": 16,
   "id": "6eb0bcb5-a1b6-4079-97aa-57dbfe1c0899",
   "metadata": {},
   "outputs": [
    {
     "data": {
      "text/plain": [
       "array([[ 41,  42,  43,  44,  45,  46,  47,  48,  49,  50],\n",
       "       [ 51,  52,  53,  54,  55,  56,  57,  58,  59,  60],\n",
       "       [ 61,  62,  63,  64,  65,  66,  67,  68,  69,  70],\n",
       "       [ 71,  72,  73,  74,  75,  76,  77,  78,  79,  80],\n",
       "       [ 81,  82,  83,  84,  85,  86,  87,  88,  89,  90],\n",
       "       [ 91,  92,  93,  94,  95,  96,  97,  98,  99, 100]])"
      ]
     },
     "execution_count": 16,
     "metadata": {},
     "output_type": "execute_result"
    }
   ],
   "source": [
    "arr[4:,]\n",
    "# arr[4:,:] da aynı şey"
   ]
  },
  {
   "cell_type": "code",
   "execution_count": 17,
   "id": "42eeca68-52d6-4e83-9c65-3ee2b70efd08",
   "metadata": {},
   "outputs": [
    {
     "data": {
      "text/plain": [
       "array([[ 45,  46,  47,  48,  49,  50],\n",
       "       [ 55,  56,  57,  58,  59,  60],\n",
       "       [ 65,  66,  67,  68,  69,  70],\n",
       "       [ 75,  76,  77,  78,  79,  80],\n",
       "       [ 85,  86,  87,  88,  89,  90],\n",
       "       [ 95,  96,  97,  98,  99, 100]])"
      ]
     },
     "execution_count": 17,
     "metadata": {},
     "output_type": "execute_result"
    }
   ],
   "source": [
    "arr[4:,4:]"
   ]
  },
  {
   "cell_type": "code",
   "execution_count": 18,
   "id": "01962f87-6789-4409-ac74-a1e5eb3368ab",
   "metadata": {},
   "outputs": [
    {
     "data": {
      "text/plain": [
       "array([[ 3,  4],\n",
       "       [13, 14],\n",
       "       [23, 24]])"
      ]
     },
     "execution_count": 18,
     "metadata": {},
     "output_type": "execute_result"
    }
   ],
   "source": [
    "arr[0:3,2:4]"
   ]
  },
  {
   "cell_type": "code",
   "execution_count": 19,
   "id": "72e0a06d-9a10-4679-8b0e-bf4d3911e502",
   "metadata": {},
   "outputs": [
    {
     "data": {
      "text/plain": [
       "array([ 2, 12, 22])"
      ]
     },
     "execution_count": 19,
     "metadata": {},
     "output_type": "execute_result"
    }
   ],
   "source": [
    "arr[:3,1]"
   ]
  },
  {
   "cell_type": "code",
   "execution_count": 20,
   "id": "966c004f-db30-440e-8856-3209cfbae2f9",
   "metadata": {},
   "outputs": [
    {
     "data": {
      "text/plain": [
       "array([[ 2],\n",
       "       [12],\n",
       "       [22]])"
      ]
     },
     "execution_count": 20,
     "metadata": {},
     "output_type": "execute_result"
    }
   ],
   "source": [
    "arr[:3,1].reshape(3,1)"
   ]
  },
  {
   "cell_type": "code",
   "execution_count": 21,
   "id": "5f44113b-e32e-4e78-addf-b359228363ec",
   "metadata": {},
   "outputs": [
    {
     "data": {
      "text/plain": [
       "array([ 10,  20,  30,  40,  50,  60,  70,  80,  90, 100])"
      ]
     },
     "execution_count": 21,
     "metadata": {},
     "output_type": "execute_result"
    }
   ],
   "source": [
    "arr[:,9]"
   ]
  },
  {
   "cell_type": "code",
   "execution_count": 22,
   "id": "7bf11e96-c09f-4e16-898c-789a628bb445",
   "metadata": {},
   "outputs": [],
   "source": [
    "#Bölüm 3"
   ]
  },
  {
   "cell_type": "code",
   "execution_count": 23,
   "id": "6c529569-cf83-4ab9-98b8-86d63bed5fe0",
   "metadata": {},
   "outputs": [],
   "source": [
    "arr1 = ((np.random.rand(9) * 5).astype(int)).reshape(3,3)\n",
    "arr2 = ((np.random.rand(9) * 5).astype(int)).reshape(3,3)\n"
   ]
  },
  {
   "cell_type": "code",
   "execution_count": 24,
   "id": "f6fcc83c-b1a8-4749-a752-849f48cc6a8d",
   "metadata": {},
   "outputs": [
    {
     "data": {
      "text/plain": [
       "array([[4, 3, 2],\n",
       "       [1, 4, 1],\n",
       "       [3, 0, 2]])"
      ]
     },
     "execution_count": 24,
     "metadata": {},
     "output_type": "execute_result"
    }
   ],
   "source": [
    "arr1"
   ]
  },
  {
   "cell_type": "code",
   "execution_count": 25,
   "id": "a1ecd6ca-af8e-4062-9f9b-630e61521ef9",
   "metadata": {},
   "outputs": [
    {
     "data": {
      "text/plain": [
       "array([[1, 1, 3],\n",
       "       [1, 4, 0],\n",
       "       [1, 2, 1]])"
      ]
     },
     "execution_count": 25,
     "metadata": {},
     "output_type": "execute_result"
    }
   ],
   "source": [
    "arr2"
   ]
  },
  {
   "cell_type": "code",
   "execution_count": 26,
   "id": "fb4b6fde-e734-44a4-a891-ed9c74a2a79c",
   "metadata": {},
   "outputs": [
    {
     "data": {
      "text/plain": [
       "array([[5, 4, 5],\n",
       "       [2, 8, 1],\n",
       "       [4, 2, 3]])"
      ]
     },
     "execution_count": 26,
     "metadata": {},
     "output_type": "execute_result"
    }
   ],
   "source": [
    "arr1+ arr2"
   ]
  },
  {
   "cell_type": "code",
   "execution_count": 27,
   "id": "54042422-4806-4638-a531-7223bf5b99cd",
   "metadata": {},
   "outputs": [
    {
     "data": {
      "text/plain": [
       "array([[ 4,  3,  6],\n",
       "       [ 1, 16,  0],\n",
       "       [ 3,  0,  2]])"
      ]
     },
     "execution_count": 27,
     "metadata": {},
     "output_type": "execute_result"
    }
   ],
   "source": [
    "arr1*arr2"
   ]
  },
  {
   "cell_type": "code",
   "execution_count": 28,
   "id": "d18de57f-1689-4d15-9ad4-49aca2659dc2",
   "metadata": {},
   "outputs": [
    {
     "data": {
      "text/plain": [
       "2.2222222222222223"
      ]
     },
     "execution_count": 28,
     "metadata": {},
     "output_type": "execute_result"
    }
   ],
   "source": [
    "np.mean(arr1)"
   ]
  },
  {
   "cell_type": "code",
   "execution_count": 29,
   "id": "779a2aa2-ca00-44f2-b043-24e5142878b4",
   "metadata": {},
   "outputs": [
    {
     "data": {
      "text/plain": [
       "20"
      ]
     },
     "execution_count": 29,
     "metadata": {},
     "output_type": "execute_result"
    }
   ],
   "source": [
    "np.sum(arr1)"
   ]
  }
 ],
 "metadata": {
  "kernelspec": {
   "display_name": "Python 3 (ipykernel)",
   "language": "python",
   "name": "python3"
  },
  "language_info": {
   "codemirror_mode": {
    "name": "ipython",
    "version": 3
   },
   "file_extension": ".py",
   "mimetype": "text/x-python",
   "name": "python",
   "nbconvert_exporter": "python",
   "pygments_lexer": "ipython3",
   "version": "3.11.7"
  }
 },
 "nbformat": 4,
 "nbformat_minor": 5
}
