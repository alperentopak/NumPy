{
 "cells": [
  {
   "cell_type": "code",
   "execution_count": 1,
   "id": "781b356f-d680-4718-888f-dd695104262e",
   "metadata": {},
   "outputs": [],
   "source": [
    "import numpy as np\n"
   ]
  },
  {
   "cell_type": "code",
   "execution_count": 3,
   "id": "b61dbac1-e667-4eeb-b530-84c722dea2a0",
   "metadata": {},
   "outputs": [],
   "source": [
    "arr = np.arange(1,10)"
   ]
  },
  {
   "cell_type": "code",
   "execution_count": 5,
   "id": "00e6ebce-7ad8-4154-9ca7-6a757e9e2d69",
   "metadata": {},
   "outputs": [
    {
     "data": {
      "text/plain": [
       "array([1, 2, 3, 4, 5, 6, 7, 8, 9])"
      ]
     },
     "execution_count": 5,
     "metadata": {},
     "output_type": "execute_result"
    }
   ],
   "source": [
    "arr"
   ]
  },
  {
   "cell_type": "code",
   "execution_count": 6,
   "id": "23a71215-d4c6-4a35-8f34-9c670676429b",
   "metadata": {},
   "outputs": [
    {
     "data": {
      "text/plain": [
       "2"
      ]
     },
     "execution_count": 6,
     "metadata": {},
     "output_type": "execute_result"
    }
   ],
   "source": [
    "arr[1]"
   ]
  },
  {
   "cell_type": "code",
   "execution_count": 7,
   "id": "7f52d97e-91d7-4a3d-97ae-ee2c0f995eee",
   "metadata": {},
   "outputs": [
    {
     "data": {
      "text/plain": [
       "array([2, 3, 4, 5])"
      ]
     },
     "execution_count": 7,
     "metadata": {},
     "output_type": "execute_result"
    }
   ],
   "source": [
    "arr[1:5]"
   ]
  },
  {
   "cell_type": "code",
   "execution_count": 9,
   "id": "c2d2c632-6f8e-443f-9754-f2a66797be98",
   "metadata": {},
   "outputs": [
    {
     "data": {
      "text/plain": [
       "array([1, 2, 3, 4])"
      ]
     },
     "execution_count": 9,
     "metadata": {},
     "output_type": "execute_result"
    }
   ],
   "source": [
    "arr[:4]"
   ]
  },
  {
   "cell_type": "code",
   "execution_count": 10,
   "id": "2c1dafb5-41d8-4e24-afdf-2b32fbda3d78",
   "metadata": {},
   "outputs": [
    {
     "data": {
      "text/plain": [
       "array([1, 3, 5, 7, 9])"
      ]
     },
     "execution_count": 10,
     "metadata": {},
     "output_type": "execute_result"
    }
   ],
   "source": [
    "arr[::2]"
   ]
  },
  {
   "cell_type": "code",
   "execution_count": 11,
   "id": "2d543be0-2f4a-48e0-9315-e7b75f174bbb",
   "metadata": {},
   "outputs": [
    {
     "data": {
      "text/plain": [
       "array([1, 2, 3, 4, 5, 6, 7, 8, 9])"
      ]
     },
     "execution_count": 11,
     "metadata": {},
     "output_type": "execute_result"
    }
   ],
   "source": [
    "arr\n"
   ]
  },
  {
   "cell_type": "code",
   "execution_count": 12,
   "id": "0d5c7818-5452-483d-bba1-b88f8ae04986",
   "metadata": {},
   "outputs": [
    {
     "data": {
      "text/plain": [
       "array([1, 2, 3])"
      ]
     },
     "execution_count": 12,
     "metadata": {},
     "output_type": "execute_result"
    }
   ],
   "source": [
    "arr[:3]"
   ]
  },
  {
   "cell_type": "code",
   "execution_count": 15,
   "id": "1d335778-48cd-4fcf-a05c-dbf3afa97533",
   "metadata": {},
   "outputs": [
    {
     "data": {
      "text/plain": [
       "array([25, 25, 25,  4,  5,  6,  7,  8,  9])"
      ]
     },
     "execution_count": 15,
     "metadata": {},
     "output_type": "execute_result"
    }
   ],
   "source": [
    "arr[:3] = 25\n",
    "arr"
   ]
  },
  {
   "cell_type": "code",
   "execution_count": 16,
   "id": "bb3e4a60-ae50-40b0-98c8-1e7ce368b628",
   "metadata": {},
   "outputs": [
    {
     "data": {
      "text/plain": [
       "array([1, 2, 3, 4, 5, 6, 7, 8, 9])"
      ]
     },
     "execution_count": 16,
     "metadata": {},
     "output_type": "execute_result"
    }
   ],
   "source": [
    "arr = np.arange(1,10)\n",
    "arr"
   ]
  },
  {
   "cell_type": "code",
   "execution_count": 17,
   "id": "1ab094f5-826c-4629-84f2-a344dbe3e1b6",
   "metadata": {},
   "outputs": [],
   "source": [
    "arr2 = arr\n",
    "arr2[:3] = 100\n"
   ]
  },
  {
   "cell_type": "code",
   "execution_count": 20,
   "id": "116ebab5-4d92-42a7-97b4-cf6ee5e59925",
   "metadata": {},
   "outputs": [
    {
     "data": {
      "text/plain": [
       "array([100, 100, 100,   4,   5,   6,   7,   8,   9])"
      ]
     },
     "execution_count": 20,
     "metadata": {},
     "output_type": "execute_result"
    }
   ],
   "source": [
    "arr2"
   ]
  },
  {
   "cell_type": "code",
   "execution_count": 21,
   "id": "9366e789-d4d2-4aba-9cba-c863022e4d66",
   "metadata": {},
   "outputs": [
    {
     "data": {
      "text/plain": [
       "array([100, 100, 100,   4,   5,   6,   7,   8,   9])"
      ]
     },
     "execution_count": 21,
     "metadata": {},
     "output_type": "execute_result"
    }
   ],
   "source": [
    "arr"
   ]
  },
  {
   "cell_type": "markdown",
   "id": "b71b7455-c3c2-4d85-83e8-3454a18a42ae",
   "metadata": {},
   "source": [
    "arr2'yi arr ye atadım, arr2 dizisinde ben değişiklik yapacağım, yaptığım değişiklik arr'ye de yansıyacak.\n",
    "Bunun sebebi, bir numpy arrayi olusturduk ve bu arr değişkenimiz bu adresi gösteriyor, arr2=arr yapıldığında arr2 de yine\n",
    "aynı adresi gösterecek.Böylelikle arr2'de yapacağım değişiklikler arr'yi de etkiliyor"
   ]
  },
  {
   "cell_type": "markdown",
   "id": "7b95d8f6-79e4-41fc-847b-7b5450a6c107",
   "metadata": {},
   "source": [
    "Copy metodu ile birinde yapacağım değişiklil diğerine yansımayacak"
   ]
  },
  {
   "cell_type": "code",
   "execution_count": 22,
   "id": "51450f9d-c03b-44dc-8648-5d92533a0a8c",
   "metadata": {},
   "outputs": [
    {
     "data": {
      "text/plain": [
       "array([ 1,  2,  3,  4,  5,  6,  7,  8,  9, 10, 11, 12, 13, 14])"
      ]
     },
     "execution_count": 22,
     "metadata": {},
     "output_type": "execute_result"
    }
   ],
   "source": [
    "arr = np.arange(1,15)\n",
    "arr"
   ]
  },
  {
   "cell_type": "code",
   "execution_count": 23,
   "id": "5bd5a5a0-e27e-493b-b277-8b0a7e1ffc8c",
   "metadata": {},
   "outputs": [
    {
     "data": {
      "text/plain": [
       "array([ 1,  2,  3,  4,  5,  6,  7,  8,  9, 10, 11, 12, 13, 14])"
      ]
     },
     "execution_count": 23,
     "metadata": {},
     "output_type": "execute_result"
    }
   ],
   "source": [
    "arr2 = arr.copy()\n",
    "arr2"
   ]
  },
  {
   "cell_type": "code",
   "execution_count": 24,
   "id": "a44a611c-d41a-4f4e-8e45-f5cbc1e07488",
   "metadata": {},
   "outputs": [
    {
     "data": {
      "text/plain": [
       "array([30, 30, 30,  4,  5,  6,  7,  8,  9, 10, 11, 12, 13, 14])"
      ]
     },
     "execution_count": 24,
     "metadata": {},
     "output_type": "execute_result"
    }
   ],
   "source": [
    "arr2[:3] = 30\n",
    "arr2"
   ]
  },
  {
   "cell_type": "code",
   "execution_count": 25,
   "id": "5f478528-489e-4ecd-858d-2daa6dbc65f3",
   "metadata": {},
   "outputs": [
    {
     "data": {
      "text/plain": [
       "array([ 1,  2,  3,  4,  5,  6,  7,  8,  9, 10, 11, 12, 13, 14])"
      ]
     },
     "execution_count": 25,
     "metadata": {},
     "output_type": "execute_result"
    }
   ],
   "source": [
    "arr"
   ]
  },
  {
   "cell_type": "code",
   "execution_count": 26,
   "id": "75b31a20-76c9-425a-ac81-38e25d9089b1",
   "metadata": {},
   "outputs": [
    {
     "data": {
      "text/plain": [
       "array([ 1,  2,  3,  4,  5,  6,  7,  8,  9, 10, 11, 12, 13, 14, 15, 16, 17,\n",
       "       18, 19, 20])"
      ]
     },
     "execution_count": 26,
     "metadata": {},
     "output_type": "execute_result"
    }
   ],
   "source": [
    "newArray = np.arange(1,21)\n",
    "newArray"
   ]
  },
  {
   "cell_type": "code",
   "execution_count": 29,
   "id": "d93fee6f-38bf-43ed-8c68-7ba909343280",
   "metadata": {},
   "outputs": [
    {
     "data": {
      "text/plain": [
       "array([[ 1,  2,  3,  4],\n",
       "       [ 5,  6,  7,  8],\n",
       "       [ 9, 10, 11, 12],\n",
       "       [13, 14, 15, 16],\n",
       "       [17, 18, 19, 20]])"
      ]
     },
     "execution_count": 29,
     "metadata": {},
     "output_type": "execute_result"
    }
   ],
   "source": [
    "newArray.reshape(5,4)"
   ]
  },
  {
   "cell_type": "code",
   "execution_count": 30,
   "id": "36fa909b-fc05-48ab-af38-1f42e8773e9e",
   "metadata": {},
   "outputs": [
    {
     "data": {
      "text/plain": [
       "array([ 1,  2,  3,  4,  5,  6,  7,  8,  9, 10, 11, 12, 13, 14, 15, 16, 17,\n",
       "       18, 19, 20])"
      ]
     },
     "execution_count": 30,
     "metadata": {},
     "output_type": "execute_result"
    }
   ],
   "source": [
    "newArray"
   ]
  },
  {
   "cell_type": "code",
   "execution_count": 31,
   "id": "068cf2e8-eabf-4f57-b135-00e1f16f22b7",
   "metadata": {},
   "outputs": [
    {
     "data": {
      "text/plain": [
       "array([[ 1,  2,  3,  4],\n",
       "       [ 5,  6,  7,  8],\n",
       "       [ 9, 10, 11, 12],\n",
       "       [13, 14, 15, 16],\n",
       "       [17, 18, 19, 20]])"
      ]
     },
     "execution_count": 31,
     "metadata": {},
     "output_type": "execute_result"
    }
   ],
   "source": [
    "newArray = newArray.reshape(5,4)\n",
    "newArray"
   ]
  },
  {
   "cell_type": "raw",
   "id": "a125828e-784d-4435-a3c5-2f84f9c7fd42",
   "metadata": {},
   "source": [
    "arr[ : , : ] işareti ne demek? |||||||||||\n",
    "arr[1] yaptıgımızda bir dizinin 1. indisine erişebiliriz\n",
    "arr[1,1] yaptığımızda bir matrisin 1.satırının 1. indisine erişebiliriz\n",
    "arr[: ,2] yaptığımızda tüm satırlarının 2. indislerini yazarız\n",
    "arr[: ,:2] yaptığımızda tüm satırlarının ilk iki yani 0 ve 1 indislerini yazarız\n",
    "arr[:2,] yaptığımzda ilk iki yani 0 ve 1. satırların tüm indislerini yazarız\n",
    "arr[:2,:2] yaptıpımzda ilk iki satırda ilk iki sütunu yazarız \n"
   ]
  },
  {
   "cell_type": "code",
   "execution_count": 32,
   "id": "d22266ee-2278-47a4-b400-9f7ffa6c9d02",
   "metadata": {},
   "outputs": [
    {
     "data": {
      "text/plain": [
       "2"
      ]
     },
     "execution_count": 32,
     "metadata": {},
     "output_type": "execute_result"
    }
   ],
   "source": [
    "newArray[0,1]"
   ]
  },
  {
   "cell_type": "code",
   "execution_count": 40,
   "id": "59c0ff7f-5ca7-492c-bd3c-dce329dfde31",
   "metadata": {},
   "outputs": [
    {
     "data": {
      "text/plain": [
       "array([[ 1,  2],\n",
       "       [ 5,  6],\n",
       "       [ 9, 10],\n",
       "       [13, 14],\n",
       "       [17, 18]])"
      ]
     },
     "execution_count": 40,
     "metadata": {},
     "output_type": "execute_result"
    }
   ],
   "source": [
    "newArray[:,:2]"
   ]
  },
  {
   "cell_type": "markdown",
   "id": "b6743c20-9f33-4bd3-8cc5-6cff0d3e9bb3",
   "metadata": {},
   "source": [
    "ilk kısım yani ( [: , ) kısmında eğer hatırlarsan [:] metodu ile baştan sona hepsini alıyorduk,\n",
    "bu yüzden yine baştan sona hepsi için geçerli olacak,\n",
    "ikinci kıssım yani ( ,:2] ) kısmı ise eğer hatırlarsan [:2] metodu ile baştan 2. indise kadar\n",
    "almamızı sağlıyordu\n",
    "birleştirince de bu şekil bir matris oluşturabildik\n",
    "\n",
    "kafan eğer karışırsa başlangıç kısma [: demek yerine [0: da diyebilirsin."
   ]
  },
  {
   "cell_type": "code",
   "execution_count": 42,
   "id": "57285b1a-d6df-4421-a4e2-1d4da7017266",
   "metadata": {},
   "outputs": [
    {
     "data": {
      "text/plain": [
       "array([[ 1,  2,  3,  4],\n",
       "       [ 5,  6,  7,  8],\n",
       "       [ 9, 10, 11, 12],\n",
       "       [13, 14, 15, 16],\n",
       "       [17, 18, 19, 20]])"
      ]
     },
     "execution_count": 42,
     "metadata": {},
     "output_type": "execute_result"
    }
   ],
   "source": [
    "newArray"
   ]
  },
  {
   "cell_type": "code",
   "execution_count": 43,
   "id": "a8b51aec-cc53-4190-b7f8-7a13f010c4f4",
   "metadata": {},
   "outputs": [
    {
     "data": {
      "text/plain": [
       "array([[ 1,  2,  3],\n",
       "       [ 5,  6,  7],\n",
       "       [ 9, 10, 11]])"
      ]
     },
     "execution_count": 43,
     "metadata": {},
     "output_type": "execute_result"
    }
   ],
   "source": [
    "newArray[:3,:3]"
   ]
  },
  {
   "cell_type": "code",
   "execution_count": 49,
   "id": "9984ea80-bf9b-4a55-becc-17548b7305c8",
   "metadata": {},
   "outputs": [
    {
     "data": {
      "text/plain": [
       "array([[1, 2, 3, 4],\n",
       "       [5, 6, 7, 8]])"
      ]
     },
     "execution_count": 49,
     "metadata": {},
     "output_type": "execute_result"
    }
   ],
   "source": [
    "newArray[0:2,0:]"
   ]
  },
  {
   "cell_type": "code",
   "execution_count": 50,
   "id": "4df82e8f-d2b3-4466-b385-b3658762083b",
   "metadata": {},
   "outputs": [
    {
     "data": {
      "text/plain": [
       "array([[1, 2, 3, 4],\n",
       "       [5, 6, 7, 8]])"
      ]
     },
     "execution_count": 50,
     "metadata": {},
     "output_type": "execute_result"
    }
   ],
   "source": [
    "newArray[0:2]"
   ]
  },
  {
   "cell_type": "code",
   "execution_count": 53,
   "id": "1f7783a9-fa06-487a-bb45-fd2abbc1e102",
   "metadata": {},
   "outputs": [],
   "source": [
    "####         ARRAY FİLTRELEME      #####"
   ]
  },
  {
   "cell_type": "code",
   "execution_count": 54,
   "id": "503fc229-36a5-4245-a311-d32dc989a340",
   "metadata": {},
   "outputs": [
    {
     "data": {
      "text/plain": [
       "array([ 1,  2,  3,  4,  5,  6,  7,  8,  9, 10])"
      ]
     },
     "execution_count": 54,
     "metadata": {},
     "output_type": "execute_result"
    }
   ],
   "source": [
    "arr = np.arange(1,11)\n",
    "arr"
   ]
  },
  {
   "cell_type": "code",
   "execution_count": 55,
   "id": "dfd8448a-8678-43a1-aeab-05e0fd2dbc5c",
   "metadata": {},
   "outputs": [
    {
     "data": {
      "text/plain": [
       "array([False, False, False,  True,  True,  True,  True,  True,  True,\n",
       "        True])"
      ]
     },
     "execution_count": 55,
     "metadata": {},
     "output_type": "execute_result"
    }
   ],
   "source": [
    "arr > 3"
   ]
  },
  {
   "cell_type": "code",
   "execution_count": 56,
   "id": "1ffbdc26-fd3e-4b11-85be-5e2acbeb632c",
   "metadata": {},
   "outputs": [
    {
     "data": {
      "text/plain": [
       "array([ 4,  5,  6,  7,  8,  9, 10])"
      ]
     },
     "execution_count": 56,
     "metadata": {},
     "output_type": "execute_result"
    }
   ],
   "source": [
    "booleanArray = arr > 3\n",
    "arr[booleanArray]"
   ]
  },
  {
   "cell_type": "code",
   "execution_count": 57,
   "id": "5e4c2929-f1ff-4fc9-b34d-4e4867ea207e",
   "metadata": {},
   "outputs": [
    {
     "data": {
      "text/plain": [
       "array([ 7,  8,  9, 10])"
      ]
     },
     "execution_count": 57,
     "metadata": {},
     "output_type": "execute_result"
    }
   ],
   "source": [
    "arr[arr>6]"
   ]
  },
  {
   "cell_type": "code",
   "execution_count": null,
   "id": "35df01b4-cf8c-4390-aa99-706380519383",
   "metadata": {},
   "outputs": [],
   "source": []
  },
  {
   "cell_type": "code",
   "execution_count": null,
   "id": "15434d5c-a34e-422f-84f5-f5c3a72046d4",
   "metadata": {},
   "outputs": [],
   "source": []
  },
  {
   "cell_type": "code",
   "execution_count": 93,
   "id": "7bf36a9d-89f1-4818-8cad-52fc1e1f6601",
   "metadata": {},
   "outputs": [],
   "source": [
    "### Numpy'dan dolayi değil , dizilerde dizi2 yi değiştirdikten sonra dizi1'de yine değişecektir\n",
    "### bunu çözmek için copy meteodunu kullanacağız!\n",
    "\n",
    "## Numpy kullanmakta şöyle bir fayda var, dizi2[2:5] = 30 yaptığımda dizi2'nin 2,3,4 indexlerinin değerleri\n",
    "## 30 oluyor yani 1,2,30,30,30,6,7,8,9,10 oluyor\n",
    "## Kullanmazsam eğer dizi2[2:5] = 30 yapamıyorum ,  dizi2[2:5] = 30,30,30 yapmam gerekiyor\n"
   ]
  },
  {
   "cell_type": "code",
   "execution_count": 94,
   "id": "ca7dae68-096c-45d8-8860-dc6b06bae9ac",
   "metadata": {},
   "outputs": [],
   "source": [
    "dizi1 = [1,2,3,4,5,6,7,8,9,10]\n",
    "dizi2 = dizi1.copy()"
   ]
  },
  {
   "cell_type": "code",
   "execution_count": 95,
   "id": "502f7e7e-37ec-4548-9b6e-c77a81d1911e",
   "metadata": {},
   "outputs": [
    {
     "data": {
      "text/plain": [
       "[1, 2, 3, 4, 5, 6, 7, 8, 9, 10]"
      ]
     },
     "execution_count": 95,
     "metadata": {},
     "output_type": "execute_result"
    }
   ],
   "source": [
    "dizi2\n"
   ]
  },
  {
   "cell_type": "code",
   "execution_count": 96,
   "id": "13eb0cf6-c349-4831-9483-e1707f75a864",
   "metadata": {},
   "outputs": [
    {
     "data": {
      "text/plain": [
       "3"
      ]
     },
     "execution_count": 96,
     "metadata": {},
     "output_type": "execute_result"
    }
   ],
   "source": [
    "dizi2[2]"
   ]
  },
  {
   "cell_type": "code",
   "execution_count": 97,
   "id": "3e853ec3-ae98-4f90-8bea-5af9756ff5b2",
   "metadata": {},
   "outputs": [
    {
     "data": {
      "text/plain": [
       "[3, 4, 5]"
      ]
     },
     "execution_count": 97,
     "metadata": {},
     "output_type": "execute_result"
    }
   ],
   "source": [
    "dizi2[2:5]"
   ]
  },
  {
   "cell_type": "code",
   "execution_count": 101,
   "id": "b3213765-1a9a-42c3-9aea-4b3c3df5b61c",
   "metadata": {},
   "outputs": [],
   "source": [
    "dizi2[2:5] = 30,30,30"
   ]
  },
  {
   "cell_type": "code",
   "execution_count": 102,
   "id": "5a0a8bf2-ced2-4123-8425-76604e392b25",
   "metadata": {},
   "outputs": [
    {
     "data": {
      "text/plain": [
       "[1, 2, 30, 30, 30, 6, 7, 8, 9, 10]"
      ]
     },
     "execution_count": 102,
     "metadata": {},
     "output_type": "execute_result"
    }
   ],
   "source": [
    "dizi2"
   ]
  },
  {
   "cell_type": "code",
   "execution_count": 103,
   "id": "1aa19f48-5b0a-454a-bacd-2698ac1c93b3",
   "metadata": {},
   "outputs": [
    {
     "data": {
      "text/plain": [
       "[1, 2, 3, 4, 5, 6, 7, 8, 9, 10]"
      ]
     },
     "execution_count": 103,
     "metadata": {},
     "output_type": "execute_result"
    }
   ],
   "source": [
    "dizi1"
   ]
  },
  {
   "cell_type": "code",
   "execution_count": 104,
   "id": "a9306f84-0bc3-4362-9d4d-44d582c0acd7",
   "metadata": {},
   "outputs": [
    {
     "data": {
      "text/plain": [
       "array([ 1,  2,  3,  4,  5,  6,  7,  8,  9, 10])"
      ]
     },
     "execution_count": 104,
     "metadata": {},
     "output_type": "execute_result"
    }
   ],
   "source": [
    "dizi3 = np.arange(1,11)\n",
    "dizi3"
   ]
  },
  {
   "cell_type": "code",
   "execution_count": 105,
   "id": "109168a4-f42e-4483-ab0f-f2843e4c5c59",
   "metadata": {},
   "outputs": [
    {
     "data": {
      "text/plain": [
       "array([ 1,  2,  3,  4,  5,  6,  7,  8,  9, 10])"
      ]
     },
     "execution_count": 105,
     "metadata": {},
     "output_type": "execute_result"
    }
   ],
   "source": [
    "dizi4 = dizi3.copy()\n",
    "dizi4"
   ]
  },
  {
   "cell_type": "code",
   "execution_count": 106,
   "id": "7b24ba9c-48f9-4e48-9493-82502f065219",
   "metadata": {},
   "outputs": [
    {
     "data": {
      "text/plain": [
       "array([3, 4, 5])"
      ]
     },
     "execution_count": 106,
     "metadata": {},
     "output_type": "execute_result"
    }
   ],
   "source": [
    "dizi4[2:5]"
   ]
  },
  {
   "cell_type": "code",
   "execution_count": 107,
   "id": "6e5c0c68-8caa-4063-a76a-7bade6133e55",
   "metadata": {},
   "outputs": [],
   "source": [
    "dizi4[2:5] = 30"
   ]
  },
  {
   "cell_type": "code",
   "execution_count": 108,
   "id": "683cbbfd-e067-48ae-9edf-398d25c1a217",
   "metadata": {},
   "outputs": [
    {
     "data": {
      "text/plain": [
       "array([ 1,  2, 30, 30, 30,  6,  7,  8,  9, 10])"
      ]
     },
     "execution_count": 108,
     "metadata": {},
     "output_type": "execute_result"
    }
   ],
   "source": [
    "dizi4"
   ]
  },
  {
   "cell_type": "code",
   "execution_count": null,
   "id": "c27cf9b8-39a3-4257-8f78-cbf29e0f0269",
   "metadata": {},
   "outputs": [],
   "source": []
  }
 ],
 "metadata": {
  "kernelspec": {
   "display_name": "Python 3 (ipykernel)",
   "language": "python",
   "name": "python3"
  },
  "language_info": {
   "codemirror_mode": {
    "name": "ipython",
    "version": 3
   },
   "file_extension": ".py",
   "mimetype": "text/x-python",
   "name": "python",
   "nbconvert_exporter": "python",
   "pygments_lexer": "ipython3",
   "version": "3.11.7"
  }
 },
 "nbformat": 4,
 "nbformat_minor": 5
}
